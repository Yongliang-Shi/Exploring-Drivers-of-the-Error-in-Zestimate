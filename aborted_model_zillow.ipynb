{
 "cells": [
  {
   "cell_type": "code",
   "execution_count": 1,
   "metadata": {},
   "outputs": [],
   "source": [
    "import warnings\n",
    "warnings.filterwarnings(\"ignore\")\n",
    "\n",
    "import numpy as np\n",
    "import pandas as pd\n",
    "\n",
    "import matplotlib.pyplot as plt\n",
    "import seaborn as sns\n",
    "\n",
    "import scipy.stats as stats\n",
    "\n",
    "import acquire, summarize, wrangle_zillow, model"
   ]
  },
  {
   "cell_type": "code",
   "execution_count": 2,
   "metadata": {},
   "outputs": [
    {
     "data": {
      "text/plain": [
       "(77579, 69)"
      ]
     },
     "execution_count": 2,
     "metadata": {},
     "output_type": "execute_result"
    }
   ],
   "source": [
    "# Acquire zillow dataset\n",
    "\n",
    "# Acquire the zillow dataset\n",
    "\n",
    "zillow = acquire.get_zillow_clustering()\n",
    "zillow.shape"
   ]
  },
  {
   "cell_type": "code",
   "execution_count": 3,
   "metadata": {},
   "outputs": [
    {
     "data": {
      "text/plain": [
       "((31028, 19), (13299, 19), (7823, 19))"
      ]
     },
     "execution_count": 3,
     "metadata": {},
     "output_type": "execute_result"
    }
   ],
   "source": [
    "# Wrangle the zillow dataset\n",
    "\n",
    "train, validate, test = wrangle_zillow.wrangle_zillow_clustering_2(zillow)\n",
    "\n",
    "# Double check the shape of the splitted datasets\n",
    "train.shape, validate.shape, test.shape"
   ]
  },
  {
   "cell_type": "code",
   "execution_count": 4,
   "metadata": {},
   "outputs": [
    {
     "name": "stdout",
     "output_type": "stream",
     "text": [
      "<class 'pandas.core.frame.DataFrame'>\n",
      "Int64Index: 31028 entries, 71142 to 59426\n",
      "Data columns (total 19 columns):\n",
      " #   Column                        Non-Null Count  Dtype  \n",
      "---  ------                        --------------  -----  \n",
      " 0   parcelid                      31028 non-null  int64  \n",
      " 1   bathroomcnt                   31028 non-null  float64\n",
      " 2   bedroomcnt                    31028 non-null  float64\n",
      " 3   buildingqualitytypeid         31028 non-null  float64\n",
      " 4   calculatedfinishedsquarefeet  31028 non-null  float64\n",
      " 5   finishedsquarefeet12          31028 non-null  float64\n",
      " 6   fips                          31028 non-null  object \n",
      " 7   fullbathcnt                   31028 non-null  float64\n",
      " 8   latitude                      31028 non-null  float64\n",
      " 9   longitude                     31028 non-null  float64\n",
      " 10  lotsizesquarefeet             31028 non-null  float64\n",
      " 11  roomcnt                       31028 non-null  float64\n",
      " 12  yearbuilt                     31028 non-null  float64\n",
      " 13  structuretaxvaluedollarcnt    31028 non-null  float64\n",
      " 14  taxvaluedollarcnt             31028 non-null  float64\n",
      " 15  landtaxvaluedollarcnt         31028 non-null  float64\n",
      " 16  taxamount                     31028 non-null  float64\n",
      " 17  logerror                      31028 non-null  float64\n",
      " 18  error_type                    31028 non-null  int64  \n",
      "dtypes: float64(16), int64(2), object(1)\n",
      "memory usage: 4.7+ MB\n"
     ]
    }
   ],
   "source": [
    "train.info()"
   ]
  },
  {
   "cell_type": "code",
   "execution_count": 7,
   "metadata": {},
   "outputs": [
    {
     "data": {
      "text/html": [
       "<div>\n",
       "<style scoped>\n",
       "    .dataframe tbody tr th:only-of-type {\n",
       "        vertical-align: middle;\n",
       "    }\n",
       "\n",
       "    .dataframe tbody tr th {\n",
       "        vertical-align: top;\n",
       "    }\n",
       "\n",
       "    .dataframe thead th {\n",
       "        text-align: right;\n",
       "    }\n",
       "</style>\n",
       "<table border=\"1\" class=\"dataframe\">\n",
       "  <thead>\n",
       "    <tr style=\"text-align: right;\">\n",
       "      <th></th>\n",
       "      <th>fips</th>\n",
       "      <th>error_type</th>\n",
       "    </tr>\n",
       "  </thead>\n",
       "  <tbody>\n",
       "    <tr>\n",
       "      <th>71142</th>\n",
       "      <td>Ventura</td>\n",
       "      <td>1</td>\n",
       "    </tr>\n",
       "    <tr>\n",
       "      <th>11459</th>\n",
       "      <td>Los Angeles</td>\n",
       "      <td>1</td>\n",
       "    </tr>\n",
       "    <tr>\n",
       "      <th>54330</th>\n",
       "      <td>Orange</td>\n",
       "      <td>0</td>\n",
       "    </tr>\n",
       "    <tr>\n",
       "      <th>46830</th>\n",
       "      <td>Los Angeles</td>\n",
       "      <td>0</td>\n",
       "    </tr>\n",
       "    <tr>\n",
       "      <th>53521</th>\n",
       "      <td>Orange</td>\n",
       "      <td>0</td>\n",
       "    </tr>\n",
       "  </tbody>\n",
       "</table>\n",
       "</div>"
      ],
      "text/plain": [
       "              fips  error_type\n",
       "71142      Ventura           1\n",
       "11459  Los Angeles           1\n",
       "54330       Orange           0\n",
       "46830  Los Angeles           0\n",
       "53521       Orange           0"
      ]
     },
     "execution_count": 7,
     "metadata": {},
     "output_type": "execute_result"
    }
   ],
   "source": [
    "# Create masks for 4 subgroups\n",
    "\n",
    "train.loc[:, ['fips', 'error_type']].head()"
   ]
  },
  {
   "cell_type": "code",
   "execution_count": 11,
   "metadata": {},
   "outputs": [
    {
     "data": {
      "text/plain": [
       "((16104, 19), (1487, 19), (8980, 19), (4457, 19))"
      ]
     },
     "execution_count": 11,
     "metadata": {},
     "output_type": "execute_result"
    }
   ],
   "source": [
    "mask_1 = (train.error_type == 1) & (train.fips != 'Ventura')\n",
    "mask_2 = (train.error_type == 1) & (train.fips == 'Ventura')\n",
    "mask_3 = (train.error_type == 0) & (train.fips == 'Los Angeles')\n",
    "mask_4 = (train.error_type == 0) & (train.fips != 'Los Angeles')\n",
    "\n",
    "train_1 = train[mask_1]\n",
    "train_2 = train[mask_2]\n",
    "train_3 = train[mask_3]\n",
    "train_4 = train[mask_4]\n",
    "\n",
    "train_1.shape, train_2.shape, train_3.shape, train_4.shape"
   ]
  },
  {
   "cell_type": "code",
   "execution_count": 12,
   "metadata": {},
   "outputs": [
    {
     "data": {
      "text/plain": [
       "error_type  fips       \n",
       "0           Los Angeles     8980\n",
       "            Orange          3361\n",
       "            Ventura         1096\n",
       "1           Los Angeles    11144\n",
       "            Orange          4960\n",
       "            Ventura         1487\n",
       "dtype: int64"
      ]
     },
     "execution_count": 12,
     "metadata": {},
     "output_type": "execute_result"
    }
   ],
   "source": [
    "train.groupby(['error_type', 'fips']).size()"
   ]
  },
  {
   "cell_type": "code",
   "execution_count": 20,
   "metadata": {},
   "outputs": [
    {
     "data": {
      "text/plain": [
       "(4457, 18)"
      ]
     },
     "execution_count": 20,
     "metadata": {},
     "output_type": "execute_result"
    }
   ],
   "source": [
    "train_4.to_csv('train_4.csv', index=False)\n",
    "pd.read_csv('train_4.csv', index_col=0).shape"
   ]
  },
  {
   "cell_type": "code",
   "execution_count": 22,
   "metadata": {},
   "outputs": [
    {
     "data": {
      "text/plain": [
       "((6917, 19), (623, 19), (3838, 19), (1921, 19))"
      ]
     },
     "execution_count": 22,
     "metadata": {},
     "output_type": "execute_result"
    }
   ],
   "source": [
    "mask_1 = (validate.error_type == 1) & (validate.fips != 'Ventura')\n",
    "mask_2 = (validate.error_type == 1) & (validate.fips == 'Ventura')\n",
    "mask_3 = (validate.error_type == 0) & (validate.fips == 'Los Angeles')\n",
    "mask_4 = (validate.error_type == 0) & (validate.fips != 'Los Angeles')\n",
    "\n",
    "validate_1 = validate[mask_1]\n",
    "validate_2 = validate[mask_2]\n",
    "validate_3 = validate[mask_3]\n",
    "validate_4 = validate[mask_4]\n",
    "\n",
    "validate_1.shape, validate_2.shape, validate_3.shape, validate_4.shape"
   ]
  },
  {
   "cell_type": "code",
   "execution_count": 26,
   "metadata": {},
   "outputs": [
    {
     "data": {
      "text/plain": [
       "(1921, 18)"
      ]
     },
     "execution_count": 26,
     "metadata": {},
     "output_type": "execute_result"
    }
   ],
   "source": [
    "validate_4.to_csv('validate_4.csv', index=False)\n",
    "pd.read_csv('validate_4.csv', index_col=0).shape"
   ]
  },
  {
   "cell_type": "code",
   "execution_count": 27,
   "metadata": {},
   "outputs": [
    {
     "data": {
      "text/plain": [
       "((4066, 19), (369, 19), (2206, 19), (1182, 19))"
      ]
     },
     "execution_count": 27,
     "metadata": {},
     "output_type": "execute_result"
    }
   ],
   "source": [
    "mask_1 = (test.error_type == 1) & (test.fips != 'Ventura')\n",
    "mask_2 = (test.error_type == 1) & (test.fips == 'Ventura')\n",
    "mask_3 = (test.error_type == 0) & (test.fips == 'Los Angeles')\n",
    "mask_4 = (test.error_type == 0) & (test.fips != 'Los Angeles')\n",
    "\n",
    "test_1 = test[mask_1]\n",
    "test_2 = test[mask_2]\n",
    "test_3 = test[mask_3]\n",
    "test_4 = test[mask_4]\n",
    "\n",
    "test_1.shape, test_2.shape, test_3.shape, test_4.shape"
   ]
  },
  {
   "cell_type": "code",
   "execution_count": 32,
   "metadata": {},
   "outputs": [
    {
     "data": {
      "text/plain": [
       "(1182, 18)"
      ]
     },
     "execution_count": 32,
     "metadata": {},
     "output_type": "execute_result"
    }
   ],
   "source": [
    "test_4.to_csv('test_4.csv', index=False)\n",
    "pd.read_csv('test_4.csv', index_col=0).shape"
   ]
  }
 ],
 "metadata": {
  "kernelspec": {
   "display_name": "Python 3",
   "language": "python",
   "name": "python3"
  },
  "language_info": {
   "codemirror_mode": {
    "name": "ipython",
    "version": 3
   },
   "file_extension": ".py",
   "mimetype": "text/x-python",
   "name": "python",
   "nbconvert_exporter": "python",
   "pygments_lexer": "ipython3",
   "version": "3.7.6"
  }
 },
 "nbformat": 4,
 "nbformat_minor": 4
}
