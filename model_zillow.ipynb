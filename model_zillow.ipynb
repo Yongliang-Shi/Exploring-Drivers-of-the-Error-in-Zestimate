{
 "cells": [
  {
   "cell_type": "code",
   "execution_count": 1,
   "metadata": {},
   "outputs": [],
   "source": [
    "import pandas as pd\n",
    "import numpy as np\n",
    "import matplotlib.pyplot as plt\n",
    "import seaborn as sns\n",
    "import math\n",
    "\n",
    "from statsmodels.formula.api import ols\n",
    "from sklearn.model_selection import train_test_split\n",
    "from sklearn.metrics import mean_squared_error, explained_variance_score, r2_score\n",
    "from sklearn.feature_selection import SelectKBest, f_regression, RFE\n",
    "from sklearn.linear_model import LinearRegression, LassoLars\n",
    "from sklearn.preprocessing import PolynomialFeatures\n",
    "\n",
    "import warnings\n",
    "warnings.filterwarnings('ignore')\n",
    "\n",
    "import acquire, prepare, wrangle_zillow, features, model"
   ]
  },
  {
   "cell_type": "markdown",
   "metadata": {},
   "source": [
    "## Scale train/validate/test by standardscaler"
   ]
  },
  {
   "cell_type": "code",
   "execution_count": 2,
   "metadata": {},
   "outputs": [],
   "source": [
    "# Load train/validate/test datasets labled with at least cluster1-2 from csv\n",
    "\n",
    "train = pd.read_csv('train.csv', index_col=0)\n",
    "validate = pd.read_csv('validate.csv', index_col=0)\n",
    "test = pd.read_csv('test.csv', index_col=0)"
   ]
  },
  {
   "cell_type": "code",
   "execution_count": 3,
   "metadata": {},
   "outputs": [
    {
     "data": {
      "text/plain": [
       "((31028, 24), (13299, 22), (7823, 22))"
      ]
     },
     "execution_count": 3,
     "metadata": {},
     "output_type": "execute_result"
    }
   ],
   "source": [
    "# Check the shape of the 3 datasets\n",
    "\n",
    "train.shape, validate.shape, test.shape"
   ]
  },
  {
   "cell_type": "code",
   "execution_count": 4,
   "metadata": {},
   "outputs": [
    {
     "data": {
      "text/plain": [
       "((15165, 24), (26841, 24))"
      ]
     },
     "execution_count": 4,
     "metadata": {},
     "output_type": "execute_result"
    }
   ],
   "source": [
    "# Create masks for group 1 in cluster1 and group 0 in cluster2. \n",
    "\n",
    "# mask for train dataset\n",
    "mask_tr_cluster1_1 = (train.cluster1 == 1)\n",
    "mask_tr_cluster2_0 = (train.cluster2 == 0)\n",
    "\n",
    "# mask for validate dataset\n",
    "mask_v_cluster1_1 = (validate.cluster1 == 1)\n",
    "mask_v_cluster2_0 = (validate.cluster2 == 0)\n",
    "\n",
    "# mask for test dataset\n",
    "mask_t_cluster1_1 = (test.cluster1 == 1)\n",
    "mask_t_cluster2_0 = (test.cluster2 == 0)\n",
    "\n",
    "# Create train/validate/test for group 1 in cluster1\n",
    "\n",
    "train_cluster1_1 = train[mask_tr_cluster1_1]\n",
    "validate_cluster1_1 = validate[mask_v_cluster1_1]\n",
    "test_cluster1_1 = test[mask_t_cluster1_1]\n",
    "\n",
    "# Create train/validate/test for group 0 in cluster2\n",
    "\n",
    "train_cluster2_0 = train[mask_tr_cluster2_0]\n",
    "validate_cluster2_0 = validate[mask_v_cluster2_0]\n",
    "test_cluster2_0 = test[mask_t_cluster2_0]\n",
    "\n",
    "train_cluster1_1.shape, train_cluster2_0.shape"
   ]
  },
  {
   "cell_type": "code",
   "execution_count": 5,
   "metadata": {},
   "outputs": [
    {
     "data": {
      "text/plain": [
       "Index(['bathroomcnt', 'bedroomcnt', 'buildingqualitytypeid',\n",
       "       'calculatedfinishedsquarefeet', 'finishedsquarefeet12', 'fullbathcnt',\n",
       "       'latitude', 'longitude', 'lotsizesquarefeet', 'roomcnt', 'yearbuilt',\n",
       "       'structuretaxvaluedollarcnt', 'taxvaluedollarcnt',\n",
       "       'landtaxvaluedollarcnt', 'taxamount', 'logerror', 'error_type',\n",
       "       'fips_Orange', 'fips_Ventura', 'logtaxvaluedollarcnt', 'cluster1',\n",
       "       'cluster2', 'cluster3', 'cluster4'],\n",
       "      dtype='object')"
      ]
     },
     "execution_count": 5,
     "metadata": {},
     "output_type": "execute_result"
    }
   ],
   "source": [
    "# Identify numeric columns needs to be scaled\n",
    "\n",
    "train.columns"
   ]
  },
  {
   "cell_type": "code",
   "execution_count": 6,
   "metadata": {},
   "outputs": [
    {
     "data": {
      "text/plain": [
       "16"
      ]
     },
     "execution_count": 6,
     "metadata": {},
     "output_type": "execute_result"
    }
   ],
   "source": [
    "# Create a variable to hold the numeric features be scaled, 16 in total. \n",
    "\n",
    "columns_to_scale = ['bathroomcnt', 'bedroomcnt', 'buildingqualitytypeid',\n",
    "                    'calculatedfinishedsquarefeet', 'finishedsquarefeet12', 'fullbathcnt',\n",
    "                    'latitude', 'longitude', 'lotsizesquarefeet',\n",
    "                    'roomcnt', 'yearbuilt', 'structuretaxvaluedollarcnt',\n",
    "                    'taxvaluedollarcnt', 'landtaxvaluedollarcnt', 'taxamount',\n",
    "                    'logtaxvaluedollarcnt']\n",
    "\n",
    "len(columns_to_scale)"
   ]
  },
  {
   "cell_type": "code",
   "execution_count": 7,
   "metadata": {},
   "outputs": [
    {
     "data": {
      "text/plain": [
       "((15165, 24), (6386, 22), (3765, 22))"
      ]
     },
     "execution_count": 7,
     "metadata": {},
     "output_type": "execute_result"
    }
   ],
   "source": [
    "# Scale train/validate/test for group 1 in cluster1\n",
    "\n",
    "scaler, train_scaled_1_1, validate_scaled_1_1, test_scaled_1_1 = prepare.scale_standard(train_cluster1_1,\n",
    "                                                                                        validate_cluster1_1,\n",
    "                                                                                        test_cluster1_1,\n",
    "                                                                                        columns_to_scale)\n",
    "train_scaled_1_1.shape, validate_scaled_1_1.shape, test_scaled_1_1.shape"
   ]
  },
  {
   "cell_type": "code",
   "execution_count": 10,
   "metadata": {},
   "outputs": [
    {
     "name": "stdout",
     "output_type": "stream",
     "text": [
      "<class 'pandas.core.frame.DataFrame'>\n",
      "Int64Index: 15165 entries, 17052781 to 14530930\n",
      "Data columns (total 24 columns):\n",
      " #   Column                               Non-Null Count  Dtype  \n",
      "---  ------                               --------------  -----  \n",
      " 0   logerror                             15165 non-null  float64\n",
      " 1   error_type                           15165 non-null  int64  \n",
      " 2   fips_Orange                          15165 non-null  int64  \n",
      " 3   fips_Ventura                         15165 non-null  int64  \n",
      " 4   cluster1                             15165 non-null  int64  \n",
      " 5   cluster2                             15165 non-null  int64  \n",
      " 6   cluster3                             15165 non-null  int64  \n",
      " 7   cluster4                             15165 non-null  int64  \n",
      " 8   bathroomcnt_scaled                   15165 non-null  float64\n",
      " 9   bedroomcnt_scaled                    15165 non-null  float64\n",
      " 10  buildingqualitytypeid_scaled         15165 non-null  float64\n",
      " 11  calculatedfinishedsquarefeet_scaled  15165 non-null  float64\n",
      " 12  finishedsquarefeet12_scaled          15165 non-null  float64\n",
      " 13  fullbathcnt_scaled                   15165 non-null  float64\n",
      " 14  latitude_scaled                      15165 non-null  float64\n",
      " 15  longitude_scaled                     15165 non-null  float64\n",
      " 16  lotsizesquarefeet_scaled             15165 non-null  float64\n",
      " 17  roomcnt_scaled                       15165 non-null  float64\n",
      " 18  yearbuilt_scaled                     15165 non-null  float64\n",
      " 19  structuretaxvaluedollarcnt_scaled    15165 non-null  float64\n",
      " 20  taxvaluedollarcnt_scaled             15165 non-null  float64\n",
      " 21  landtaxvaluedollarcnt_scaled         15165 non-null  float64\n",
      " 22  taxamount_scaled                     15165 non-null  float64\n",
      " 23  logtaxvaluedollarcnt_scaled          15165 non-null  float64\n",
      "dtypes: float64(17), int64(7)\n",
      "memory usage: 2.9 MB\n"
     ]
    },
    {
     "data": {
      "text/plain": [
       "((15165, 24), None)"
      ]
     },
     "execution_count": 10,
     "metadata": {},
     "output_type": "execute_result"
    }
   ],
   "source": [
    "# Summarize train_scaled_1_1 by .info()\n",
    "\n",
    "train_scaled_1_1.info()"
   ]
  },
  {
   "cell_type": "code",
   "execution_count": 11,
   "metadata": {},
   "outputs": [
    {
     "data": {
      "text/plain": [
       "(StandardScaler(copy=True, with_mean=True, with_std=True),\n",
       " (26841, 24),\n",
       " (11496, 22),\n",
       " (6798, 22))"
      ]
     },
     "execution_count": 11,
     "metadata": {},
     "output_type": "execute_result"
    }
   ],
   "source": [
    "# Scale train/validate/test for group 2 in cluster0\n",
    "\n",
    "scaler, train_scaled_2_0, validate_scaled_2_0, test_scaled_2_0 = prepare.scale_standard(train_cluster2_0,\n",
    "                                                                                        validate_cluster2_0,\n",
    "                                                                                        test_cluster2_0,\n",
    "                                                                                        columns_to_scale)\n",
    "scaler, train_scaled_2_0.shape, validate_scaled_2_0.shape, test_scaled_2_0.shape"
   ]
  },
  {
   "cell_type": "code",
   "execution_count": 12,
   "metadata": {},
   "outputs": [
    {
     "name": "stdout",
     "output_type": "stream",
     "text": [
      "<class 'pandas.core.frame.DataFrame'>\n",
      "Int64Index: 26841 entries, 17052781 to 14530930\n",
      "Data columns (total 24 columns):\n",
      " #   Column                               Non-Null Count  Dtype  \n",
      "---  ------                               --------------  -----  \n",
      " 0   logerror                             26841 non-null  float64\n",
      " 1   error_type                           26841 non-null  int64  \n",
      " 2   fips_Orange                          26841 non-null  int64  \n",
      " 3   fips_Ventura                         26841 non-null  int64  \n",
      " 4   cluster1                             26841 non-null  int64  \n",
      " 5   cluster2                             26841 non-null  int64  \n",
      " 6   cluster3                             26841 non-null  int64  \n",
      " 7   cluster4                             26841 non-null  int64  \n",
      " 8   bathroomcnt_scaled                   26841 non-null  float64\n",
      " 9   bedroomcnt_scaled                    26841 non-null  float64\n",
      " 10  buildingqualitytypeid_scaled         26841 non-null  float64\n",
      " 11  calculatedfinishedsquarefeet_scaled  26841 non-null  float64\n",
      " 12  finishedsquarefeet12_scaled          26841 non-null  float64\n",
      " 13  fullbathcnt_scaled                   26841 non-null  float64\n",
      " 14  latitude_scaled                      26841 non-null  float64\n",
      " 15  longitude_scaled                     26841 non-null  float64\n",
      " 16  lotsizesquarefeet_scaled             26841 non-null  float64\n",
      " 17  roomcnt_scaled                       26841 non-null  float64\n",
      " 18  yearbuilt_scaled                     26841 non-null  float64\n",
      " 19  structuretaxvaluedollarcnt_scaled    26841 non-null  float64\n",
      " 20  taxvaluedollarcnt_scaled             26841 non-null  float64\n",
      " 21  landtaxvaluedollarcnt_scaled         26841 non-null  float64\n",
      " 22  taxamount_scaled                     26841 non-null  float64\n",
      " 23  logtaxvaluedollarcnt_scaled          26841 non-null  float64\n",
      "dtypes: float64(17), int64(7)\n",
      "memory usage: 5.1 MB\n"
     ]
    }
   ],
   "source": [
    "# Summarize train_scaled_2_0 by .info()\n",
    "\n",
    "train_scaled_2_0.info()"
   ]
  },
  {
   "cell_type": "markdown",
   "metadata": {},
   "source": [
    "## Feature Engineering on training dataset"
   ]
  },
  {
   "cell_type": "code",
   "execution_count": 16,
   "metadata": {},
   "outputs": [],
   "source": [
    "# Show all the columns in training dataset, 19 in total\n",
    "\n",
    "predictors=['error_type', 'fips_Orange', 'fips_Ventura',\n",
    "            'bathroomcnt_scaled', 'bedroomcnt_scaled', 'buildingqualitytypeid_scaled',\n",
    "            'calculatedfinishedsquarefeet_scaled', 'finishedsquarefeet12_scaled',\n",
    "            'fullbathcnt_scaled', 'latitude_scaled', 'longitude_scaled',\n",
    "            'lotsizesquarefeet_scaled', 'roomcnt_scaled', 'yearbuilt_scaled',\n",
    "            'structuretaxvaluedollarcnt_scaled', 'taxvaluedollarcnt_scaled',\n",
    "            'landtaxvaluedollarcnt_scaled', 'taxamount_scaled','logtaxvaluedollarcnt_scaled']"
   ]
  },
  {
   "cell_type": "code",
   "execution_count": 33,
   "metadata": {},
   "outputs": [
    {
     "data": {
      "text/html": [
       "<div>\n",
       "<style scoped>\n",
       "    .dataframe tbody tr th:only-of-type {\n",
       "        vertical-align: middle;\n",
       "    }\n",
       "\n",
       "    .dataframe tbody tr th {\n",
       "        vertical-align: top;\n",
       "    }\n",
       "\n",
       "    .dataframe thead th {\n",
       "        text-align: right;\n",
       "    }\n",
       "</style>\n",
       "<table border=\"1\" class=\"dataframe\">\n",
       "  <thead>\n",
       "    <tr style=\"text-align: right;\">\n",
       "      <th></th>\n",
       "      <th>logerror</th>\n",
       "      <th>error_type</th>\n",
       "      <th>fips_Orange</th>\n",
       "      <th>fips_Ventura</th>\n",
       "      <th>cluster1</th>\n",
       "      <th>cluster2</th>\n",
       "      <th>cluster3</th>\n",
       "      <th>cluster4</th>\n",
       "      <th>bathroomcnt_scaled</th>\n",
       "      <th>bedroomcnt_scaled</th>\n",
       "      <th>...</th>\n",
       "      <th>latitude_scaled</th>\n",
       "      <th>longitude_scaled</th>\n",
       "      <th>lotsizesquarefeet_scaled</th>\n",
       "      <th>roomcnt_scaled</th>\n",
       "      <th>yearbuilt_scaled</th>\n",
       "      <th>structuretaxvaluedollarcnt_scaled</th>\n",
       "      <th>taxvaluedollarcnt_scaled</th>\n",
       "      <th>landtaxvaluedollarcnt_scaled</th>\n",
       "      <th>taxamount_scaled</th>\n",
       "      <th>logtaxvaluedollarcnt_scaled</th>\n",
       "    </tr>\n",
       "    <tr>\n",
       "      <th>parcelid</th>\n",
       "      <th></th>\n",
       "      <th></th>\n",
       "      <th></th>\n",
       "      <th></th>\n",
       "      <th></th>\n",
       "      <th></th>\n",
       "      <th></th>\n",
       "      <th></th>\n",
       "      <th></th>\n",
       "      <th></th>\n",
       "      <th></th>\n",
       "      <th></th>\n",
       "      <th></th>\n",
       "      <th></th>\n",
       "      <th></th>\n",
       "      <th></th>\n",
       "      <th></th>\n",
       "      <th></th>\n",
       "      <th></th>\n",
       "      <th></th>\n",
       "      <th></th>\n",
       "    </tr>\n",
       "  </thead>\n",
       "  <tbody>\n",
       "    <tr>\n",
       "      <th>17052781</th>\n",
       "      <td>0.045179</td>\n",
       "      <td>1</td>\n",
       "      <td>0</td>\n",
       "      <td>1</td>\n",
       "      <td>1</td>\n",
       "      <td>0</td>\n",
       "      <td>0</td>\n",
       "      <td>2</td>\n",
       "      <td>-0.133983</td>\n",
       "      <td>-0.236717</td>\n",
       "      <td>...</td>\n",
       "      <td>1.500195</td>\n",
       "      <td>-2.948718</td>\n",
       "      <td>-0.032643</td>\n",
       "      <td>1.290202</td>\n",
       "      <td>-0.545964</td>\n",
       "      <td>0.298036</td>\n",
       "      <td>0.648764</td>\n",
       "      <td>0.478141</td>\n",
       "      <td>0.484278</td>\n",
       "      <td>0.719477</td>\n",
       "    </tr>\n",
       "    <tr>\n",
       "      <th>11162056</th>\n",
       "      <td>0.000996</td>\n",
       "      <td>1</td>\n",
       "      <td>0</td>\n",
       "      <td>0</td>\n",
       "      <td>1</td>\n",
       "      <td>0</td>\n",
       "      <td>0</td>\n",
       "      <td>0</td>\n",
       "      <td>1.201886</td>\n",
       "      <td>0.937961</td>\n",
       "      <td>...</td>\n",
       "      <td>1.451369</td>\n",
       "      <td>-0.497984</td>\n",
       "      <td>-0.043036</td>\n",
       "      <td>-0.649257</td>\n",
       "      <td>1.617841</td>\n",
       "      <td>2.274282</td>\n",
       "      <td>0.316700</td>\n",
       "      <td>-1.159848</td>\n",
       "      <td>1.098956</td>\n",
       "      <td>0.445165</td>\n",
       "    </tr>\n",
       "    <tr>\n",
       "      <th>14033552</th>\n",
       "      <td>-0.012577</td>\n",
       "      <td>0</td>\n",
       "      <td>1</td>\n",
       "      <td>0</td>\n",
       "      <td>1</td>\n",
       "      <td>0</td>\n",
       "      <td>4</td>\n",
       "      <td>2</td>\n",
       "      <td>1.201886</td>\n",
       "      <td>2.112640</td>\n",
       "      <td>...</td>\n",
       "      <td>-1.170089</td>\n",
       "      <td>0.742929</td>\n",
       "      <td>-0.039218</td>\n",
       "      <td>2.259931</td>\n",
       "      <td>0.374804</td>\n",
       "      <td>0.274740</td>\n",
       "      <td>0.147617</td>\n",
       "      <td>-0.026855</td>\n",
       "      <td>-0.081082</td>\n",
       "      <td>0.295356</td>\n",
       "    </tr>\n",
       "    <tr>\n",
       "      <th>14253441</th>\n",
       "      <td>-0.065676</td>\n",
       "      <td>0</td>\n",
       "      <td>1</td>\n",
       "      <td>0</td>\n",
       "      <td>1</td>\n",
       "      <td>0</td>\n",
       "      <td>4</td>\n",
       "      <td>2</td>\n",
       "      <td>-0.133983</td>\n",
       "      <td>-0.236717</td>\n",
       "      <td>...</td>\n",
       "      <td>-1.051450</td>\n",
       "      <td>0.997035</td>\n",
       "      <td>-0.067096</td>\n",
       "      <td>1.290202</td>\n",
       "      <td>0.604996</td>\n",
       "      <td>-0.425464</td>\n",
       "      <td>-1.053754</td>\n",
       "      <td>-0.815781</td>\n",
       "      <td>-1.066902</td>\n",
       "      <td>-1.056418</td>\n",
       "    </tr>\n",
       "    <tr>\n",
       "      <th>14142789</th>\n",
       "      <td>0.010418</td>\n",
       "      <td>1</td>\n",
       "      <td>1</td>\n",
       "      <td>0</td>\n",
       "      <td>1</td>\n",
       "      <td>0</td>\n",
       "      <td>4</td>\n",
       "      <td>2</td>\n",
       "      <td>1.869821</td>\n",
       "      <td>0.937961</td>\n",
       "      <td>...</td>\n",
       "      <td>-0.557345</td>\n",
       "      <td>0.659954</td>\n",
       "      <td>-0.027959</td>\n",
       "      <td>1.613445</td>\n",
       "      <td>0.052535</td>\n",
       "      <td>0.527611</td>\n",
       "      <td>1.042448</td>\n",
       "      <td>0.736589</td>\n",
       "      <td>0.606999</td>\n",
       "      <td>1.015539</td>\n",
       "    </tr>\n",
       "  </tbody>\n",
       "</table>\n",
       "<p>5 rows × 24 columns</p>\n",
       "</div>"
      ],
      "text/plain": [
       "          logerror  error_type  fips_Orange  fips_Ventura  cluster1  cluster2  \\\n",
       "parcelid                                                                        \n",
       "17052781  0.045179           1            0             1         1         0   \n",
       "11162056  0.000996           1            0             0         1         0   \n",
       "14033552 -0.012577           0            1             0         1         0   \n",
       "14253441 -0.065676           0            1             0         1         0   \n",
       "14142789  0.010418           1            1             0         1         0   \n",
       "\n",
       "          cluster3  cluster4  bathroomcnt_scaled  bedroomcnt_scaled  ...  \\\n",
       "parcelid                                                             ...   \n",
       "17052781         0         2           -0.133983          -0.236717  ...   \n",
       "11162056         0         0            1.201886           0.937961  ...   \n",
       "14033552         4         2            1.201886           2.112640  ...   \n",
       "14253441         4         2           -0.133983          -0.236717  ...   \n",
       "14142789         4         2            1.869821           0.937961  ...   \n",
       "\n",
       "          latitude_scaled  longitude_scaled  lotsizesquarefeet_scaled  \\\n",
       "parcelid                                                                \n",
       "17052781         1.500195         -2.948718                 -0.032643   \n",
       "11162056         1.451369         -0.497984                 -0.043036   \n",
       "14033552        -1.170089          0.742929                 -0.039218   \n",
       "14253441        -1.051450          0.997035                 -0.067096   \n",
       "14142789        -0.557345          0.659954                 -0.027959   \n",
       "\n",
       "          roomcnt_scaled  yearbuilt_scaled  structuretaxvaluedollarcnt_scaled  \\\n",
       "parcelid                                                                        \n",
       "17052781        1.290202         -0.545964                           0.298036   \n",
       "11162056       -0.649257          1.617841                           2.274282   \n",
       "14033552        2.259931          0.374804                           0.274740   \n",
       "14253441        1.290202          0.604996                          -0.425464   \n",
       "14142789        1.613445          0.052535                           0.527611   \n",
       "\n",
       "          taxvaluedollarcnt_scaled  landtaxvaluedollarcnt_scaled  \\\n",
       "parcelid                                                           \n",
       "17052781                  0.648764                      0.478141   \n",
       "11162056                  0.316700                     -1.159848   \n",
       "14033552                  0.147617                     -0.026855   \n",
       "14253441                 -1.053754                     -0.815781   \n",
       "14142789                  1.042448                      0.736589   \n",
       "\n",
       "          taxamount_scaled  logtaxvaluedollarcnt_scaled  \n",
       "parcelid                                                 \n",
       "17052781          0.484278                     0.719477  \n",
       "11162056          1.098956                     0.445165  \n",
       "14033552         -0.081082                     0.295356  \n",
       "14253441         -1.066902                    -1.056418  \n",
       "14142789          0.606999                     1.015539  \n",
       "\n",
       "[5 rows x 24 columns]"
      ]
     },
     "execution_count": 33,
     "metadata": {},
     "output_type": "execute_result"
    }
   ],
   "source": [
    "train_scaled_1_1.head()"
   ]
  },
  {
   "cell_type": "code",
   "execution_count": 34,
   "metadata": {},
   "outputs": [
    {
     "data": {
      "text/plain": [
       "((15165, 19), (6386, 19), (3765, 19))"
      ]
     },
     "execution_count": 34,
     "metadata": {},
     "output_type": "execute_result"
    }
   ],
   "source": [
    "# Set the X and y for group 1 in cluster1\n",
    "\n",
    "X_train_scaled_1_1 = train_scaled_1_1[predictors]\n",
    "y_train_1_1 = train_scaled_1_1['logerror']\n",
    "\n",
    "X_validate_scaled_1_1 = validate_scaled_1_1[predictors]\n",
    "y_validate_1_1 = validate_scaled_1_1['logerror']\n",
    "\n",
    "X_test_scaled_1_1 = test_scaled_1_1[predictors]\n",
    "y_test_1_1 = test_scaled_1_1['logerror']\n",
    "\n",
    "X_train_scaled_1_1.shape, X_validate_scaled_1_1.shape, X_test_scaled_1_1.shape"
   ]
  },
  {
   "cell_type": "code",
   "execution_count": 35,
   "metadata": {},
   "outputs": [
    {
     "data": {
      "text/plain": [
       "((26841, 19), (11496, 19), (6798, 19))"
      ]
     },
     "execution_count": 35,
     "metadata": {},
     "output_type": "execute_result"
    }
   ],
   "source": [
    "# Set the X and y for group 2 in cluster0\n",
    "\n",
    "X_train_scaled_2_0 = train_scaled_2_0[predictors]\n",
    "y_train_2_0 = train_scaled_2_0['logerror']\n",
    "\n",
    "X_validate_scaled_2_0 = validate_scaled_2_0[predictors]\n",
    "y_validate_2_0 = validate_scaled_2_0['logerror']\n",
    "\n",
    "X_test_scaled_2_0 = test_scaled_2_0[predictors]\n",
    "y_test_2_0 = test_scaled_2_0['logerror']\n",
    "\n",
    "X_train_scaled_2_0.shape, X_validate_scaled_2_0.shape, X_test_scaled_2_0.shape"
   ]
  },
  {
   "cell_type": "markdown",
   "metadata": {},
   "source": [
    "### Select top 10 features by select KBest"
   ]
  },
  {
   "cell_type": "code",
   "execution_count": 36,
   "metadata": {},
   "outputs": [
    {
     "data": {
      "text/plain": [
       "['error_type',\n",
       " 'fips_Orange',\n",
       " 'bathroomcnt_scaled',\n",
       " 'bedroomcnt_scaled',\n",
       " 'calculatedfinishedsquarefeet_scaled',\n",
       " 'finishedsquarefeet12_scaled',\n",
       " 'fullbathcnt_scaled',\n",
       " 'roomcnt_scaled',\n",
       " 'yearbuilt_scaled',\n",
       " 'landtaxvaluedollarcnt_scaled']"
      ]
     },
     "execution_count": 36,
     "metadata": {},
     "output_type": "execute_result"
    }
   ],
   "source": [
    "# Group 1 in cluster1\n",
    "\n",
    "f_features_1_1 = features.select_kbest(X_train_scaled_1_1, y_train_1_1, 10)\n",
    "f_features_1_1"
   ]
  },
  {
   "cell_type": "code",
   "execution_count": 37,
   "metadata": {},
   "outputs": [
    {
     "data": {
      "text/plain": [
       "['error_type',\n",
       " 'fips_Orange',\n",
       " 'bathroomcnt_scaled',\n",
       " 'bedroomcnt_scaled',\n",
       " 'calculatedfinishedsquarefeet_scaled',\n",
       " 'finishedsquarefeet12_scaled',\n",
       " 'fullbathcnt_scaled',\n",
       " 'roomcnt_scaled',\n",
       " 'yearbuilt_scaled',\n",
       " 'structuretaxvaluedollarcnt_scaled']"
      ]
     },
     "execution_count": 37,
     "metadata": {},
     "output_type": "execute_result"
    }
   ],
   "source": [
    "# Group 2 in cluster0\n",
    "\n",
    "f_features_2_0 = features.select_kbest(X_train_scaled_2_0, y_train_2_0, 10)\n",
    "f_features_2_0"
   ]
  },
  {
   "cell_type": "markdown",
   "metadata": {},
   "source": [
    "### Select top 10 features by RFE"
   ]
  },
  {
   "cell_type": "code",
   "execution_count": 38,
   "metadata": {},
   "outputs": [
    {
     "data": {
      "text/plain": [
       "['error_type',\n",
       " 'bathroomcnt_scaled',\n",
       " 'buildingqualitytypeid_scaled',\n",
       " 'calculatedfinishedsquarefeet_scaled',\n",
       " 'finishedsquarefeet12_scaled',\n",
       " 'fullbathcnt_scaled',\n",
       " 'structuretaxvaluedollarcnt_scaled',\n",
       " 'taxvaluedollarcnt_scaled',\n",
       " 'landtaxvaluedollarcnt_scaled',\n",
       " 'logtaxvaluedollarcnt_scaled']"
      ]
     },
     "execution_count": 38,
     "metadata": {},
     "output_type": "execute_result"
    }
   ],
   "source": [
    "rfe_features_1_1 = features.rfe(X_train_scaled_1_1, y_train_1_1, 10)\n",
    "rfe_features_1_1"
   ]
  },
  {
   "cell_type": "code",
   "execution_count": 39,
   "metadata": {},
   "outputs": [
    {
     "data": {
      "text/plain": [
       "['error_type',\n",
       " 'fips_Ventura',\n",
       " 'calculatedfinishedsquarefeet_scaled',\n",
       " 'finishedsquarefeet12_scaled',\n",
       " 'latitude_scaled',\n",
       " 'yearbuilt_scaled',\n",
       " 'structuretaxvaluedollarcnt_scaled',\n",
       " 'taxvaluedollarcnt_scaled',\n",
       " 'landtaxvaluedollarcnt_scaled',\n",
       " 'logtaxvaluedollarcnt_scaled']"
      ]
     },
     "execution_count": 39,
     "metadata": {},
     "output_type": "execute_result"
    }
   ],
   "source": [
    "rfe_features_2_0 = features.rfe(X_train_scaled_2_0, y_train_2_0, 10)\n",
    "rfe_features_2_0"
   ]
  },
  {
   "cell_type": "markdown",
   "metadata": {},
   "source": [
    "## Modeling for Group 1 cluster 1"
   ]
  },
  {
   "cell_type": "markdown",
   "metadata": {},
   "source": [
    "### Set up baseline"
   ]
  },
  {
   "cell_type": "code",
   "execution_count": 40,
   "metadata": {
    "scrolled": true
   },
   "outputs": [
    {
     "data": {
      "text/plain": [
       "count    15165.000000\n",
       "mean         0.001954\n",
       "std          0.069305\n",
       "min         -0.445277\n",
       "25%         -0.025474\n",
       "50%          0.003546\n",
       "75%          0.030249\n",
       "max          0.250974\n",
       "Name: logerror, dtype: float64"
      ]
     },
     "execution_count": 40,
     "metadata": {},
     "output_type": "execute_result"
    }
   ],
   "source": [
    "y_train_1_1.describe()"
   ]
  },
  {
   "cell_type": "code",
   "execution_count": 41,
   "metadata": {},
   "outputs": [
    {
     "data": {
      "text/plain": [
       "<matplotlib.axes._subplots.AxesSubplot at 0x7f96e5530e50>"
      ]
     },
     "execution_count": 41,
     "metadata": {},
     "output_type": "execute_result"
    },
    {
     "data": {
      "image/png": "[encoded data removed]",
      "text/plain": [
       "<Figure size 432x288 with 1 Axes>"
      ]
     },
     "metadata": {
      "needs_background": "light"
     },
     "output_type": "display_data"
    }
   ],
   "source": [
    "y_train_1_1.hist()"
   ]
  },
  {
   "cell_type": "code",
   "execution_count": 43,
   "metadata": {},
   "outputs": [
    {
     "data": {
      "text/plain": [
       "(array([0.00195396, 0.00195396, 0.00195396, 0.00195396, 0.00195396]), 15165)"
      ]
     },
     "execution_count": 43,
     "metadata": {},
     "output_type": "execute_result"
    }
   ],
   "source": [
    "# Compute baseline prediction using mean\n",
    "\n",
    "mean, median = y_train_1_1.agg(['mean', 'median'])\n",
    "\n",
    "baseline = np.array([mean]*y_train_1_1.size)\n",
    "baseline[:5], len(baseline)"
   ]
  },
  {
   "cell_type": "code",
   "execution_count": 45,
   "metadata": {},
   "outputs": [
    {
     "data": {
      "text/plain": [
       "72.8356969472252"
      ]
     },
     "execution_count": 45,
     "metadata": {},
     "output_type": "execute_result"
    }
   ],
   "source": [
    "# Compute baseline sse\n",
    "\n",
    "baseline_residual = y_train_1_1 - mean\n",
    "baseline_sse = (baseline_residual**2).sum()\n",
    "baseline_sse"
   ]
  },
  {
   "cell_type": "code",
   "execution_count": 47,
   "metadata": {},
   "outputs": [
    {
     "data": {
      "text/plain": [
       "0.0048028814340405675"
      ]
     },
     "execution_count": 47,
     "metadata": {},
     "output_type": "execute_result"
    }
   ],
   "source": [
    "# Compute baseline mse\n",
    "\n",
    "baseline_mse = baseline_sse/y_train_1_1.size\n",
    "baseline_mse"
   ]
  },
  {
   "cell_type": "code",
   "execution_count": 50,
   "metadata": {},
   "outputs": [
    {
     "data": {
      "text/plain": [
       "0.0024014407170202838"
      ]
     },
     "execution_count": 50,
     "metadata": {},
     "output_type": "execute_result"
    }
   ],
   "source": [
    "# Compute baseline rmse\n",
    "\n",
    "baseline_rmse = mean_squared_error(y_train_1_1, baseline)**1/2\n",
    "baseline_rmse"
   ]
  },
  {
   "cell_type": "code",
   "execution_count": 51,
   "metadata": {},
   "outputs": [],
   "source": [
    "def plot_residuals(actual, predicted, feature):\n",
    "    \"\"\"\n",
    "    Returns the scatterplot of actural y in horizontal axis and residuals in vertical axis\n",
    "    Parameters: actural y(df.se), predicted y(df.se), feature(str)\n",
    "    Prerequisite: call function evaluate_slr\n",
    "    \"\"\"\n",
    "    residuals = actual - predicted\n",
    "    plt.hlines(0, actual.min(), actual.max(), ls=':')\n",
    "    plt.scatter(actual, residuals)\n",
    "    plt.ylabel('residual ($y - \\hat{y}$)')\n",
    "    plt.xlabel('actual value ($y$)')\n",
    "    plt.title(f'Actual vs Residual on {feature}')\n",
    "    return plt.gca()"
   ]
  },
  {
   "cell_type": "code",
   "execution_count": 61,
   "metadata": {},
   "outputs": [],
   "source": [
    "def plot_residuals_percentage(actual, predicted, feature):\n",
    "    \"\"\"\n",
    "    Returns the scatterplot of actural y in horizontal axis and residuals in vertical axis\n",
    "    Parameters: actural y(df.se), predicted y(df.se), feature(str)\n",
    "    Prerequisite: call function evaluate_slr\n",
    "    \"\"\"\n",
    "    residuals = actual - predicted\n",
    "    residuals_percentage = residuals/actual\n",
    "    plt.hlines(0, actual.min(), actual.max(), ls=':')\n",
    "    plt.scatter(actual, residuals_percentage)\n",
    "    plt.ylabel('residual ($y - \\hat{y}$)%')\n",
    "    plt.xlabel('actual value ($y$)')\n",
    "    plt.title(f'Actual vs Residual% on {feature}')\n",
    "    return plt.gca()"
   ]
  },
  {
   "cell_type": "markdown",
   "metadata": {},
   "source": [
    "### Test 3 different algorithms for f_features and rfe_features\n",
    "- LinearRegression\n",
    "- LassoLars\n",
    "- Poly(2nd degree)"
   ]
  },
  {
   "cell_type": "code",
   "execution_count": 53,
   "metadata": {},
   "outputs": [],
   "source": [
    "# Create X_train_scaled for f_features and rfe_features\n",
    "\n",
    "X_train_scaled_1_1_f = X_train_scaled_1_1[f_features_1_1]\n",
    "X_train_scaled_1_1_rfe = X_train_scaled_1_1[rfe_features_1_1]"
   ]
  },
  {
   "cell_type": "code",
   "execution_count": 54,
   "metadata": {},
   "outputs": [
    {
     "name": "stdout",
     "output_type": "stream",
     "text": [
      "<class 'pandas.core.frame.DataFrame'>\n",
      "Int64Index: 15165 entries, 17052781 to 14530930\n",
      "Data columns (total 10 columns):\n",
      " #   Column                               Non-Null Count  Dtype  \n",
      "---  ------                               --------------  -----  \n",
      " 0   error_type                           15165 non-null  int64  \n",
      " 1   fips_Orange                          15165 non-null  int64  \n",
      " 2   bathroomcnt_scaled                   15165 non-null  float64\n",
      " 3   bedroomcnt_scaled                    15165 non-null  float64\n",
      " 4   calculatedfinishedsquarefeet_scaled  15165 non-null  float64\n",
      " 5   finishedsquarefeet12_scaled          15165 non-null  float64\n",
      " 6   fullbathcnt_scaled                   15165 non-null  float64\n",
      " 7   roomcnt_scaled                       15165 non-null  float64\n",
      " 8   yearbuilt_scaled                     15165 non-null  float64\n",
      " 9   landtaxvaluedollarcnt_scaled         15165 non-null  float64\n",
      "dtypes: float64(8), int64(2)\n",
      "memory usage: 1.3 MB\n"
     ]
    }
   ],
   "source": [
    "# Confirm f_features are selected correctly\n",
    "\n",
    "X_train_scaled_1_1_f.info()"
   ]
  },
  {
   "cell_type": "code",
   "execution_count": 55,
   "metadata": {},
   "outputs": [
    {
     "name": "stdout",
     "output_type": "stream",
     "text": [
      "<class 'pandas.core.frame.DataFrame'>\n",
      "Int64Index: 15165 entries, 17052781 to 14530930\n",
      "Data columns (total 10 columns):\n",
      " #   Column                               Non-Null Count  Dtype  \n",
      "---  ------                               --------------  -----  \n",
      " 0   error_type                           15165 non-null  int64  \n",
      " 1   bathroomcnt_scaled                   15165 non-null  float64\n",
      " 2   buildingqualitytypeid_scaled         15165 non-null  float64\n",
      " 3   calculatedfinishedsquarefeet_scaled  15165 non-null  float64\n",
      " 4   finishedsquarefeet12_scaled          15165 non-null  float64\n",
      " 5   fullbathcnt_scaled                   15165 non-null  float64\n",
      " 6   structuretaxvaluedollarcnt_scaled    15165 non-null  float64\n",
      " 7   taxvaluedollarcnt_scaled             15165 non-null  float64\n",
      " 8   landtaxvaluedollarcnt_scaled         15165 non-null  float64\n",
      " 9   logtaxvaluedollarcnt_scaled          15165 non-null  float64\n",
      "dtypes: float64(9), int64(1)\n",
      "memory usage: 1.3 MB\n"
     ]
    }
   ],
   "source": [
    "# Confirm rfe_features are selected correctly\n",
    "\n",
    "X_train_scaled_1_1_rfe.info()"
   ]
  },
  {
   "cell_type": "code",
   "execution_count": 57,
   "metadata": {},
   "outputs": [
    {
     "data": {
      "text/plain": [
       "parcelid\n",
       "17052781    0.045179\n",
       "11162056    0.000996\n",
       "14033552   -0.012577\n",
       "14253441   -0.065676\n",
       "14142789    0.010418\n",
       "Name: logerror, dtype: float64"
      ]
     },
     "execution_count": 57,
     "metadata": {},
     "output_type": "execute_result"
    }
   ],
   "source": [
    "# Confirm y_train\n",
    "\n",
    "y_train_1_1[:5]"
   ]
  },
  {
   "cell_type": "markdown",
   "metadata": {},
   "source": [
    "### LinearRegression"
   ]
  },
  {
   "cell_type": "code",
   "execution_count": 58,
   "metadata": {},
   "outputs": [
    {
     "data": {
      "text/plain": [
       "LinearRegression(copy_X=True, fit_intercept=True, n_jobs=None, normalize=True)"
      ]
     },
     "execution_count": 58,
     "metadata": {},
     "output_type": "execute_result"
    }
   ],
   "source": [
    "# Create lm object\n",
    "\n",
    "lm = LinearRegression(normalize=True)\n",
    "lm"
   ]
  },
  {
   "cell_type": "code",
   "execution_count": 60,
   "metadata": {},
   "outputs": [
    {
     "data": {
      "text/plain": [
       "0.0013638278316285659"
      ]
     },
     "execution_count": 60,
     "metadata": {},
     "output_type": "execute_result"
    }
   ],
   "source": [
    "# Fit train dataset with f_features, predict and calculate the lm_rmse\n",
    "\n",
    "lm_f = lm.fit(X_train_scaled_1_1_f, y_train_1_1)\n",
    "lm_pred_f = lm_f.predict(X_train_scaled_1_1_f)\n",
    "lm_rmse_f = mean_squared_error(y_train_1_1, lm_pred_f)**1/2\n",
    "\n",
    "lm_rmse_f"
   ]
  },
  {
   "cell_type": "code",
   "execution_count": 64,
   "metadata": {},
   "outputs": [
    {
     "data": {
      "text/plain": [
       "0.001362398014085791"
      ]
     },
     "execution_count": 64,
     "metadata": {},
     "output_type": "execute_result"
    }
   ],
   "source": [
    "# Fit train dataset with rfe_features, predict and calculate the lm_rmse\n",
    "\n",
    "lm_rfe = lm.fit(X_train_scaled_1_1_rfe, y_train_1_1)\n",
    "lm_pred_rfe = lm_rfe.predict(X_train_scaled_1_1_rfe)\n",
    "lm_rmse_rfe = mean_squared_error(y_train_1_1, lm_pred_rfe)**1/2\n",
    "\n",
    "lm_rmse_rfe"
   ]
  },
  {
   "cell_type": "markdown",
   "metadata": {},
   "source": [
    "### LassoLars()"
   ]
  },
  {
   "cell_type": "code",
   "execution_count": 65,
   "metadata": {},
   "outputs": [
    {
     "data": {
      "text/plain": [
       "LassoLars(alpha=0.1, copy_X=True, eps=2.220446049250313e-16, fit_intercept=True,\n",
       "          fit_path=True, max_iter=500, normalize=True, positive=False,\n",
       "          precompute='auto', verbose=False)"
      ]
     },
     "execution_count": 65,
     "metadata": {},
     "output_type": "execute_result"
    }
   ],
   "source": [
    "# Create lars object (alpha=0.1)\n",
    "\n",
    "lars = LassoLars(alpha=0.1)\n",
    "lars"
   ]
  },
  {
   "cell_type": "code",
   "execution_count": 66,
   "metadata": {},
   "outputs": [
    {
     "data": {
      "text/plain": [
       "0.0024014407170202838"
      ]
     },
     "execution_count": 66,
     "metadata": {},
     "output_type": "execute_result"
    }
   ],
   "source": [
    "# Fit train dataset with f_features, predict and calculate the rmse\n",
    "\n",
    "lars_f = lars.fit(X_train_scaled_1_1_f, y_train_1_1)\n",
    "lars_pred_f = lars_f.predict(X_train_scaled_1_1_f)\n",
    "lars_rmse_f = mean_squared_error(y_train_1_1, lars_pred_f)**1/2\n",
    "\n",
    "lars_rmse_f"
   ]
  },
  {
   "cell_type": "code",
   "execution_count": 67,
   "metadata": {},
   "outputs": [
    {
     "data": {
      "text/plain": [
       "0.0024014407170202838"
      ]
     },
     "execution_count": 67,
     "metadata": {},
     "output_type": "execute_result"
    }
   ],
   "source": [
    "# Fit train dataset with rfe_features, predict and calculate the lm_rmse\n",
    "\n",
    "lars_rfe = lars.fit(X_train_scaled_1_1_rfe, y_train_1_1)\n",
    "lars_pred_rfe = lars_rfe.predict(X_train_scaled_1_1_rfe)\n",
    "lars_rmse_rfe = mean_squared_error(y_train_1_1, lars_pred_rfe)**1/2\n",
    "\n",
    "lars_rmse_rfe"
   ]
  },
  {
   "cell_type": "markdown",
   "metadata": {},
   "source": [
    "### Poly (2nd Degree)"
   ]
  },
  {
   "cell_type": "code",
   "execution_count": 122,
   "metadata": {},
   "outputs": [],
   "source": [
    "# Transform X_train_scaled_f and _rfe to squared.\n",
    "\n",
    "pf2 = PolynomialFeatures(degree=2)\n",
    "X_train_scaled_squared_f = pf2.fit_transform(X_train_scaled_1_1_f)\n",
    "X_train_scaled_squared_rfe = pf2.fit_transform(X_train_scaled_1_1_rfe)"
   ]
  },
  {
   "cell_type": "code",
   "execution_count": 123,
   "metadata": {},
   "outputs": [],
   "source": [
    "# Create lm_squared object\n",
    "\n",
    "lm_squared2 = LinearRegression()"
   ]
  },
  {
   "cell_type": "code",
   "execution_count": 124,
   "metadata": {},
   "outputs": [
    {
     "data": {
      "text/plain": [
       "0.001286513535963518"
      ]
     },
     "execution_count": 124,
     "metadata": {},
     "output_type": "execute_result"
    }
   ],
   "source": [
    "# Fit X_train_scaled_squared_f, predict and compute the rmse\n",
    "\n",
    "lm_squared_f = lm_squared2.fit(X_train_scaled_squared_f, y_train_1_1)\n",
    "lm_squared_pred_f = lm_squared_f.predict(X_train_scaled_squared_f)\n",
    "\n",
    "lm_squared_rmse_f = mean_squared_error(y_train_1_1, lm_squared_pred_f)**1/2\n",
    "lm_squared_rmse_f"
   ]
  },
  {
   "cell_type": "code",
   "execution_count": 125,
   "metadata": {},
   "outputs": [
    {
     "data": {
      "text/plain": [
       "0.0013232589698699358"
      ]
     },
     "execution_count": 125,
     "metadata": {},
     "output_type": "execute_result"
    }
   ],
   "source": [
    "# Fit X_train_scaled_squared_rfe, predict and compute the rmse\n",
    "\n",
    "lm_squared_rfe = lm_squared2.fit(X_train_scaled_squared_rfe, y_train_1_1)\n",
    "lm_squared_pred_rfe = lm_squared_rfe.predict(X_train_scaled_squared_rfe)\n",
    "\n",
    "lm_squared_rmse_rfe = mean_squared_error(y_train_1_1, lm_squared_pred_rfe)**1/2\n",
    "lm_squared_rmse_rfe"
   ]
  },
  {
   "cell_type": "code",
   "execution_count": 126,
   "metadata": {},
   "outputs": [
    {
     "data": {
      "text/html": [
       "<div>\n",
       "<style scoped>\n",
       "    .dataframe tbody tr th:only-of-type {\n",
       "        vertical-align: middle;\n",
       "    }\n",
       "\n",
       "    .dataframe tbody tr th {\n",
       "        vertical-align: top;\n",
       "    }\n",
       "\n",
       "    .dataframe thead th {\n",
       "        text-align: right;\n",
       "    }\n",
       "</style>\n",
       "<table border=\"1\" class=\"dataframe\">\n",
       "  <thead>\n",
       "    <tr style=\"text-align: right;\">\n",
       "      <th></th>\n",
       "      <th>RMSE</th>\n",
       "    </tr>\n",
       "  </thead>\n",
       "  <tbody>\n",
       "    <tr>\n",
       "      <th>lm_squared_rmse_f</th>\n",
       "      <td>0.001287</td>\n",
       "    </tr>\n",
       "    <tr>\n",
       "      <th>lm_squared_rmse_rfe</th>\n",
       "      <td>0.001323</td>\n",
       "    </tr>\n",
       "    <tr>\n",
       "      <th>lm_rmse_rfe</th>\n",
       "      <td>0.001362</td>\n",
       "    </tr>\n",
       "    <tr>\n",
       "      <th>lm_rmse_f</th>\n",
       "      <td>0.001364</td>\n",
       "    </tr>\n",
       "    <tr>\n",
       "      <th>baseline_rmse</th>\n",
       "      <td>0.002401</td>\n",
       "    </tr>\n",
       "    <tr>\n",
       "      <th>lars_rmse_f</th>\n",
       "      <td>0.002401</td>\n",
       "    </tr>\n",
       "    <tr>\n",
       "      <th>lars_rmse_rfe</th>\n",
       "      <td>0.002401</td>\n",
       "    </tr>\n",
       "  </tbody>\n",
       "</table>\n",
       "</div>"
      ],
      "text/plain": [
       "                         RMSE\n",
       "lm_squared_rmse_f    0.001287\n",
       "lm_squared_rmse_rfe  0.001323\n",
       "lm_rmse_rfe          0.001362\n",
       "lm_rmse_f            0.001364\n",
       "baseline_rmse        0.002401\n",
       "lars_rmse_f          0.002401\n",
       "lars_rmse_rfe        0.002401"
      ]
     },
     "execution_count": 126,
     "metadata": {},
     "output_type": "execute_result"
    }
   ],
   "source": [
    "# Summarize the RMSE of all 6 models\n",
    "\n",
    "rmse_values = [baseline_rmse,\n",
    "               lm_rmse_f, lm_rmse_rfe, \n",
    "               lars_rmse_f, lars_rmse_rfe, \n",
    "               lm_squared_rmse_f, lm_squared_rmse_rfe]\n",
    "rmse_index = ['baseline_rmse',\n",
    "              'lm_rmse_f', 'lm_rmse_rfe',\n",
    "              'lars_rmse_f', 'lars_rmse_rfe',\n",
    "              'lm_squared_rmse_f', 'lm_squared_rmse_rfe']\n",
    "\n",
    "rmse = pd.DataFrame(rmse_values, index=rmse_index, columns=['RMSE'])\n",
    "rmse.sort_values(by='RMSE')"
   ]
  },
  {
   "cell_type": "code",
   "execution_count": 82,
   "metadata": {},
   "outputs": [
    {
     "data": {
      "text/plain": [
       "<matplotlib.axes._subplots.AxesSubplot at 0x7f96ce471ad0>"
      ]
     },
     "execution_count": 82,
     "metadata": {},
     "output_type": "execute_result"
    },
    {
     "data": {
      "image/png": "[encoded data removed]",
      "text/plain": [
       "<Figure size 432x288 with 1 Axes>"
      ]
     },
     "metadata": {
      "needs_background": "light"
     },
     "output_type": "display_data"
    }
   ],
   "source": [
    "pd.Series(lm_squared_pred_f).hist()"
   ]
  },
  {
   "cell_type": "code",
   "execution_count": 84,
   "metadata": {},
   "outputs": [
    {
     "data": {
      "text/plain": [
       "<matplotlib.axes._subplots.AxesSubplot at 0x7f96c987f5d0>"
      ]
     },
     "execution_count": 84,
     "metadata": {},
     "output_type": "execute_result"
    },
    {
     "data": {
      "image/png": "[encoded data removed]",
      "text/plain": [
       "<Figure size 432x288 with 1 Axes>"
      ]
     },
     "metadata": {
      "needs_background": "light"
     },
     "output_type": "display_data"
    }
   ],
   "source": [
    "y_train_1_1.hist()"
   ]
  },
  {
   "cell_type": "markdown",
   "metadata": {},
   "source": [
    "### Validate top 3 models\n",
    "### Poly (2nd) with both f_ and rfe_features"
   ]
  },
  {
   "cell_type": "code",
   "execution_count": 127,
   "metadata": {},
   "outputs": [
    {
     "name": "stdout",
     "output_type": "stream",
     "text": [
      "<class 'pandas.core.frame.DataFrame'>\n",
      "Int64Index: 6386 entries, 14231041 to 12122780\n",
      "Data columns (total 19 columns):\n",
      " #   Column                               Non-Null Count  Dtype  \n",
      "---  ------                               --------------  -----  \n",
      " 0   error_type                           6386 non-null   int64  \n",
      " 1   fips_Orange                          6386 non-null   int64  \n",
      " 2   fips_Ventura                         6386 non-null   int64  \n",
      " 3   bathroomcnt_scaled                   6386 non-null   float64\n",
      " 4   bedroomcnt_scaled                    6386 non-null   float64\n",
      " 5   buildingqualitytypeid_scaled         6386 non-null   float64\n",
      " 6   calculatedfinishedsquarefeet_scaled  6386 non-null   float64\n",
      " 7   finishedsquarefeet12_scaled          6386 non-null   float64\n",
      " 8   fullbathcnt_scaled                   6386 non-null   float64\n",
      " 9   latitude_scaled                      6386 non-null   float64\n",
      " 10  longitude_scaled                     6386 non-null   float64\n",
      " 11  lotsizesquarefeet_scaled             6386 non-null   float64\n",
      " 12  roomcnt_scaled                       6386 non-null   float64\n",
      " 13  yearbuilt_scaled                     6386 non-null   float64\n",
      " 14  structuretaxvaluedollarcnt_scaled    6386 non-null   float64\n",
      " 15  taxvaluedollarcnt_scaled             6386 non-null   float64\n",
      " 16  landtaxvaluedollarcnt_scaled         6386 non-null   float64\n",
      " 17  taxamount_scaled                     6386 non-null   float64\n",
      " 18  logtaxvaluedollarcnt_scaled          6386 non-null   float64\n",
      "dtypes: float64(16), int64(3)\n",
      "memory usage: 997.8 KB\n"
     ]
    }
   ],
   "source": [
    "# Confirm scaled validate dataset of X for group 1 cluster1\n",
    "\n",
    "X_validate_scaled_1_1.info()"
   ]
  },
  {
   "cell_type": "code",
   "execution_count": 128,
   "metadata": {},
   "outputs": [
    {
     "data": {
      "text/plain": [
       "parcelid\n",
       "14231041    0.003414\n",
       "12451996    0.014366\n",
       "11103322    0.005269\n",
       "13073542    0.055054\n",
       "14465516    0.132418\n",
       "Name: logerror, dtype: float64"
      ]
     },
     "execution_count": 128,
     "metadata": {},
     "output_type": "execute_result"
    }
   ],
   "source": [
    "# Confirm scaled validate dataset of y for group 1 cluster1\n",
    "\n",
    "y_validate_1_1[:5]"
   ]
  },
  {
   "cell_type": "code",
   "execution_count": 129,
   "metadata": {},
   "outputs": [],
   "source": [
    "# Create X_validate_scaled for f_features and rfe_features\n",
    "\n",
    "X_validate_scaled_1_1_f = X_validate_scaled_1_1[f_features_1_1]\n",
    "X_validate_scaled_1_1_rfe = X_validate_scaled_1_1[rfe_features_1_1]"
   ]
  },
  {
   "cell_type": "code",
   "execution_count": 130,
   "metadata": {},
   "outputs": [],
   "source": [
    "# Transform X_validate_scaled_f and _rfe to squared.\n",
    "\n",
    "X_validate_scaled_squared_f = pf2.transform(X_validate_scaled_1_1_f)\n",
    "X_validate_scaled_squared_rfe = pf2.transform(X_validate_scaled_1_1_rfe)"
   ]
  },
  {
   "cell_type": "code",
   "execution_count": 131,
   "metadata": {},
   "outputs": [
    {
     "data": {
      "text/plain": [
       "5.553328183871766e+20"
      ]
     },
     "execution_count": 131,
     "metadata": {},
     "output_type": "execute_result"
    }
   ],
   "source": [
    "# Fit X_validate_scaled_squared_f, predict and compute the rmse\n",
    "\n",
    "lm_squared_pred_f = lm_squared_f.predict(X_validate_scaled_squared_f)\n",
    "\n",
    "lm_squared_rmse_f = mean_squared_error(y_validate_1_1, lm_squared_pred_f)**1/2\n",
    "lm_squared_rmse_f"
   ]
  },
  {
   "cell_type": "code",
   "execution_count": 132,
   "metadata": {},
   "outputs": [
    {
     "data": {
      "text/plain": [
       "2.359372893449051e+17"
      ]
     },
     "execution_count": 132,
     "metadata": {},
     "output_type": "execute_result"
    }
   ],
   "source": [
    "# Fit X_validate_scaled_squared_rfe, predict and compute the rmse\n",
    "\n",
    "lm_squared_pred_rfe = lm_squared_rfe.predict(X_validate_scaled_squared_rfe)\n",
    "\n",
    "lm_squared_rmse_rfe = mean_squared_error(y_validate_1_1, lm_squared_pred_rfe)**1/2\n",
    "lm_squared_rmse_rfe"
   ]
  },
  {
   "cell_type": "markdown",
   "metadata": {},
   "source": [
    "### LinearRegression with rfe features"
   ]
  },
  {
   "cell_type": "code",
   "execution_count": 133,
   "metadata": {},
   "outputs": [
    {
     "data": {
      "text/plain": [
       "0.0013295100424344794"
      ]
     },
     "execution_count": 133,
     "metadata": {},
     "output_type": "execute_result"
    }
   ],
   "source": [
    "lm_pred = lm.predict(X_validate_scaled_1_1_rfe)\n",
    "lm_rmse = mean_squared_error(y_validate_1_1, lm_pred)**1/2\n",
    "\n",
    "lm_rmse"
   ]
  },
  {
   "cell_type": "markdown",
   "metadata": {},
   "source": [
    "### Test for the best model: LinearRegression with rfe features"
   ]
  },
  {
   "cell_type": "code",
   "execution_count": 134,
   "metadata": {},
   "outputs": [],
   "source": [
    "# Create X_train_scaled for rfe_features\n",
    "\n",
    "X_test_scaled_1_1_rfe = X_test_scaled_1_1[rfe_features_1_1]"
   ]
  },
  {
   "cell_type": "code",
   "execution_count": 135,
   "metadata": {},
   "outputs": [
    {
     "data": {
      "text/plain": [
       "0.0013398546021102945"
      ]
     },
     "execution_count": 135,
     "metadata": {},
     "output_type": "execute_result"
    }
   ],
   "source": [
    "lm_pred = lm.predict(X_test_scaled_1_1_rfe)\n",
    "lm_rmse = mean_squared_error(y_test_1_1, lm_pred)**1/2\n",
    "\n",
    "lm_rmse"
   ]
  }
 ],
 "metadata": {
  "kernelspec": {
   "display_name": "Python 3",
   "language": "python",
   "name": "python3"
  },
  "language_info": {
   "codemirror_mode": {
    "name": "ipython",
    "version": 3
   },
   "file_extension": ".py",
   "mimetype": "text/x-python",
   "name": "python",
   "nbconvert_exporter": "python",
   "pygments_lexer": "ipython3",
   "version": "3.7.6"
  }
 },
 "nbformat": 4,
 "nbformat_minor": 4
}
